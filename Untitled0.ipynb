{
  "nbformat": 4,
  "nbformat_minor": 0,
  "metadata": {
    "colab": {
      "provenance": [],
      "authorship_tag": "ABX9TyN2ZwIWxTZZEcmUZF5i/oeY",
      "include_colab_link": true
    },
    "kernelspec": {
      "name": "python3",
      "display_name": "Python 3"
    },
    "language_info": {
      "name": "python"
    }
  },
  "cells": [
    {
      "cell_type": "markdown",
      "metadata": {
        "id": "view-in-github",
        "colab_type": "text"
      },
      "source": [
        "<a href=\"https://colab.research.google.com/github/ThiagoPereira16/Lab2/blob/main/Untitled0.ipynb\" target=\"_parent\"><img src=\"https://colab.research.google.com/assets/colab-badge.svg\" alt=\"Open In Colab\"/></a>"
      ]
    },
    {
      "cell_type": "code",
      "execution_count": 1,
      "metadata": {
        "colab": {
          "base_uri": "https://localhost:8080/"
        },
        "id": "tzXdaR6gmVjL",
        "outputId": "12077619-a38e-451b-8a0a-d2d6d461d809"
      },
      "outputs": [
        {
          "output_type": "stream",
          "name": "stdout",
          "text": [
            "Linguagem de programação de alto nível\n",
            "None\n",
            "None\n"
          ]
        }
      ],
      "source": [
        "class Node:\n",
        "    def __init__(self, key, value):\n",
        "        self.key = key\n",
        "        self.value = value\n",
        "        self.next = None\n",
        "\n",
        "class HashTable:\n",
        "    def __init__(self, size):\n",
        "        self.size = size\n",
        "        self.table = [None] * size\n",
        "\n",
        "    def _hash_function(self, key):\n",
        "        return hash(key) % self.size\n",
        "\n",
        "    def insert(self, key, value):\n",
        "        index = self._hash_function(key)\n",
        "        new_node = Node(key, value)\n",
        "        if self.table[index] is None:\n",
        "            self.table[index] = new_node\n",
        "        else:\n",
        "            current = self.table[index]\n",
        "            while current.next:\n",
        "                current = current.next\n",
        "            current.next = new_node\n",
        "\n",
        "    def search(self, key):\n",
        "        index = self._hash_function(key)\n",
        "        current = self.table[index]\n",
        "        while current:\n",
        "            if current.key == key:\n",
        "                return current.value\n",
        "            current = current.next\n",
        "        return None\n",
        "\n",
        "    def remove(self, key):\n",
        "        index = self._hash_function(key)\n",
        "        current = self.table[index]\n",
        "        prev = None\n",
        "        while current:\n",
        "            if current.key == key:\n",
        "                if prev:\n",
        "                    prev.next = current.next\n",
        "                else:\n",
        "                    self.table[index] = current.next\n",
        "                return\n",
        "            prev = current\n",
        "            current = current.next\n",
        "\n",
        "# Exemplo:\n",
        "hash_table = HashTable(10)\n",
        "\n",
        "# Inserção\n",
        "hash_table.insert(\"Python\", \"Linguagem de programação de alto nível\")\n",
        "hash_table.insert(\"Java\", \"Linguagem de programação popular para desenvolvimento de aplicativos\")\n",
        "hash_table.insert(\"C\", \"Linguagem de programação de baixo nível\")\n",
        "\n",
        "# Busca\n",
        "print(hash_table.search(\"Python\"))  # Saída: Linguagem de programação de alto nível\n",
        "print(hash_table.search(\"JavaScript\"))  # Saída: None\n",
        "\n",
        "# Remoção\n",
        "hash_table.remove(\"Java\")\n",
        "print(hash_table.search(\"Java\"))  # Saída: None\n"
      ]
    }
  ]
}